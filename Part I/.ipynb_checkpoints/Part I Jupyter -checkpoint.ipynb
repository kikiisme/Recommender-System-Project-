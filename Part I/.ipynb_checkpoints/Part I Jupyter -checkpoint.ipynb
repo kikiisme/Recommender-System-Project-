{
 "cells": [
  {
   "cell_type": "markdown",
   "metadata": {},
   "source": [
    "# Part I"
   ]
  },
  {
   "cell_type": "markdown",
   "metadata": {
    "collapsed": true
   },
   "source": [
    "**Due November 7th<br\\>**\n",
    "Build two very simple collaborative filtering models. You may use published packages or\n",
    "methods - the goal of this exercise is to gain a practical intuition for how these types of\n",
    "common models work, and to develop methods to test and explore them.<br\\>\n",
    "• Choose a dataset / recommendation domain<br\\>\n",
    "• Treat this as a case study and think about it from a business perspective. What is your\n",
    "objective? What are you trying to optimizing and what are you willing to sacrifice?<br\\>\n",
    "• For this section, develop with a small dataset (< 10000 users / < 100 items; be thoughtful\n",
    "about how you sample your data)<br\\>\n",
    "• Build two brute-force collaborative filtering algorithms:<br\\>\n",
    "    1. Neighborhood-based (item or user)\n",
    "    2. Model-based\n",
    "• Develop evaluation methods:\n",
    "    1. Cross-validation setup\n",
    "    2. Accuracy on training and test data\n",
    "    3. Coverage on training and test data\n",
    "• Systematically try a range of hyper parameters for your models (e.g. neighborhood size or\n",
    "number of latent dimensions). Record (and explain in your markdown) how your evaluation\n",
    "metrics change as a function of these parameters. Include plots!<br\\>\n",
    "• After seeing these results, what other design choices might you consider?<br\\>\n",
    "• How do the evaluation metrics change as a function of your model size? Systematically\n",
    "sample your data from a small size to a large size<br\\>\n",
    "    1. Does overall accuracy change?\n",
    "    2. How does run-time scale with data size?\n",
    "• Referencing your case study set up from above, how do these methods meet your\n",
    "hypothetical objectives? Would you feel comfortable putting these solutions into production\n",
    "at a real company? What would be the potential watch outs?<br\\>"
   ]
  },
  {
   "cell_type": "markdown",
   "metadata": {},
   "source": [
    "**Evaluation<br\\>**\n",
    "[10%] Case study framework\n",
    "\n",
    "    • How well was this envisioned as an actual business problem? Is it clear what is being solved, and what acceptance criteria would be?\n",
    "    \n",
    "[30%] Technical correctness\n",
    "\n",
    "    • Is the code complete and does it run?\n",
    "    • Were appropriate methods applied in the right place? Were hyper-parameters used in a reasonable manner?\n",
    "    \n",
    "[10%] Evaluation methods\n",
    "\n",
    "    • Correct implementation\n",
    "    \n",
    "[20%] Model exploration\n",
    "\n",
    "    • How well was each model explored?\n",
    "    • Hyper-parameters\n",
    "    • Data sample size\n",
    "    • (Optional) Anything else?\n",
    "    • Are plots clearly legible, and do they make sense?\n",
    "\n",
    "[30%] Write up\n",
    "\n",
    "    • If I were your manager at work, or a key stake holder, and I needed to understand what you did and why you did it in order to make a business decision (e.g. “go / nogo”), is this write up enough for me to go on? Would I have any lingering questions that were not already pointed out as “potential watch outs”?    \n",
    "    • Clarity matters\n",
    "    • Connection to the business problem matters\n",
    "    • Demonstrating an understanding of why the algorithms are performing or not, or when then do or do not, matters"
   ]
  }
 ],
 "metadata": {
  "kernelspec": {
   "display_name": "Python 2",
   "language": "python",
   "name": "python2"
  },
  "language_info": {
   "codemirror_mode": {
    "name": "ipython",
    "version": 2
   },
   "file_extension": ".py",
   "mimetype": "text/x-python",
   "name": "python",
   "nbconvert_exporter": "python",
   "pygments_lexer": "ipython2",
   "version": "2.7.13"
  }
 },
 "nbformat": 4,
 "nbformat_minor": 2
}
